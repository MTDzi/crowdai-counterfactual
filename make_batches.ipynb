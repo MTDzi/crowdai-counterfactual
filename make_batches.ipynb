{
 "cells": [
  {
   "cell_type": "code",
   "execution_count": null,
   "metadata": {},
   "outputs": [],
   "source": [
    "import tensorflow as tf\n",
    "import tensorflow.contrib.slim as slim\n",
    "import pickle\n",
    "import numpy as np\n",
    "import scipy.sparse as sp\n",
    "import tqdm\n",
    "import random\n",
    "import numpy as np\n",
    "import more_itertools\n",
    "from prepare_dataset.config import SPARSE_DIR, TMP_DIR\n",
    "\n",
    "%pylab inline"
   ]
  },
  {
   "cell_type": "code",
   "execution_count": null,
   "metadata": {},
   "outputs": [],
   "source": [
    "def pack_samples(samples):\n",
    "    X_coo = sp.vstack([x['mat'] for x in samples])\n",
    "    idx = np.array([\n",
    "        [i, x['observed_idx']] for i, x in enumerate(samples)\n",
    "    ]).astype(np.int32)\n",
    "    props = np.array([x['propensity'] for x in samples])\n",
    "    cost = np.array([x['cost'] for x in samples])\n",
    "    indices = np.mat([X_coo.row, X_coo.col]).transpose()\n",
    "    \n",
    "    return tf.SparseTensorValue(indices, np.ones_like(X_coo.data).astype(np.float32), X_coo.shape), idx, cost, props\n",
    "\n",
    "def read_shard(i):\n",
    "    path = SPARSE_DIR + '/train_{}.pickled'.format(i)\n",
    "    return pickle.load(open(path, 'rb'))"
   ]
  },
  {
   "cell_type": "markdown",
   "metadata": {},
   "source": [
    "# Train batches (from shard 0-7)"
   ]
  },
  {
   "cell_type": "code",
   "execution_count": null,
   "metadata": {},
   "outputs": [],
   "source": [
    "train_batches = []\n",
    "batch_size = 512\n",
    "\n",
    "for i in tqdm.tqdm_notebook(range(0, 8)):\n",
    "    curr_ds = [x for x in read_shard(i) if x['n_candidates']==11]\n",
    "    pos_samples = [x for x in curr_ds if x['cost'] < 0.5]\n",
    "    neg_samples = [x for x in curr_ds if x['cost'] > 0.5]\n",
    "    for it in range(3):\n",
    "        curr_train_pool = pos_samples + list(random.choice(neg_samples, len(pos_samples)))\n",
    "        np.random.seed(42 + i*1000 + it)\n",
    "        np.random.shuffle(curr_train_pool)\n",
    "        batches = list(map(pack_samples, more_itertools.chunked(curr_train_pool, batch_size)))\n",
    "        train_batches.extend(batches)\n",
    "    del curr_ds\n",
    "print('Train: {} bathes (x {} samples)'.format(len(train_batches), batch_size))\n",
    "# > Train: 3162 bathes (x s512 samples)\n",
    "pickle.dump(train_batches, open(TMP_DIR +  '/train_batches.pickled', 'wb'))"
   ]
  },
  {
   "cell_type": "markdown",
   "metadata": {},
   "source": [
    "# Validation set (shards 8-11)"
   ]
  },
  {
   "cell_type": "code",
   "execution_count": null,
   "metadata": {},
   "outputs": [],
   "source": [
    "ds_va = []\n",
    "for i in tqdm.tqdm_notebook(range(8, 12)):\n",
    "    ds_va.extend([x for x in read_shard(i) if x['n_candidates']==11])\n",
    "\n",
    "ctr = np.mean([x['cost'] < 0.5 for x in ds_va])\n",
    "valid_pack = pack_samples([x for x in ds_va if x['cost'] < 0.5])\n",
    "pickle.dump(valid_pack + (ctr,), open(TMP_DIR + '/valid_pack.pickled', 'wb'))\n",
    "del ds_va"
   ]
  },
  {
   "cell_type": "markdown",
   "metadata": {},
   "source": [
    "# Holdout set (shards 12-15)"
   ]
  },
  {
   "cell_type": "code",
   "execution_count": null,
   "metadata": {},
   "outputs": [],
   "source": [
    "ds_ho = []\n",
    "for i in tqdm.tqdm_notebook(range(12, 16)):\n",
    "    ds_ho.extend([x for x in read_shard(i) if x['n_candidates']==11])\n",
    "\n",
    "ctr = np.mean([x['cost'] < 0.5 for x in ds_ho])\n",
    "holdout_pack = pack_samples([x for x in ds_ho if x['cost'] < 0.5])\n",
    "pickle.dump(holdout_pack + (ctr,), open(TMP_DIR +  '/holdout_pack.pickled', 'wb'))\n",
    "del ds_ho"
   ]
  }
 ],
 "metadata": {
  "kernelspec": {
   "display_name": "Python 3",
   "language": "python",
   "name": "python3"
  },
  "language_info": {
   "codemirror_mode": {
    "name": "ipython",
    "version": 3
   },
   "file_extension": ".py",
   "mimetype": "text/x-python",
   "name": "python",
   "nbconvert_exporter": "python",
   "pygments_lexer": "ipython3",
   "version": "3.6.2"
  }
 },
 "nbformat": 4,
 "nbformat_minor": 2
}
